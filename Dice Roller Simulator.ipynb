{
 "cells": [
  {
   "cell_type": "markdown",
   "metadata": {},
   "source": [
    "# Dice Roller Simulator "
   ]
  },
  {
   "cell_type": "code",
   "execution_count": 2,
   "metadata": {},
   "outputs": [
    {
     "name": "stdout",
     "output_type": "stream",
     "text": [
      "Do you want to roll the die? Y/N Y\n",
      "You rolled a 4\n",
      "Do you want to roll the die? Y/N N\n",
      "Thanks for playing!\n"
     ]
    }
   ],
   "source": [
    "import random\n",
    "\n",
    "\n",
    "def main():\n",
    "    keep_playing = input(\"Do you want to roll the die? Y/N \")\n",
    "        \n",
    "\n",
    "    while keep_playing == 'Y':\n",
    "        roll_die = randNum()\n",
    "        print(\"You rolled a\", roll_die)\n",
    "    \n",
    "        keep_playing = input(\"Do you want to roll the die? Y/N \")\n",
    "            \n",
    "    print (\"Thanks for playing!\") \n",
    "\n",
    "def randNum():\n",
    "    return random.randint(1,6)\n",
    "        \n",
    "\n",
    "main()"
   ]
  },
  {
   "cell_type": "code",
   "execution_count": null,
   "metadata": {
    "collapsed": true
   },
   "outputs": [],
   "source": []
  },
  {
   "cell_type": "code",
   "execution_count": null,
   "metadata": {
    "collapsed": true
   },
   "outputs": [],
   "source": []
  }
 ],
 "metadata": {
  "kernelspec": {
   "display_name": "Python 3",
   "language": "python",
   "name": "python3"
  },
  "language_info": {
   "codemirror_mode": {
    "name": "ipython",
    "version": 3
   },
   "file_extension": ".py",
   "mimetype": "text/x-python",
   "name": "python",
   "nbconvert_exporter": "python",
   "pygments_lexer": "ipython3",
   "version": "3.6.1"
  }
 },
 "nbformat": 4,
 "nbformat_minor": 2
}
