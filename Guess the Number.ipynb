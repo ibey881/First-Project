{
 "cells": [
  {
   "cell_type": "markdown",
   "metadata": {},
   "source": [
    "# Guess the Number "
   ]
  },
  {
   "cell_type": "code",
   "execution_count": 3,
   "metadata": {},
   "outputs": [
    {
     "name": "stdout",
     "output_type": "stream",
     "text": [
      "Enter an integer value between 1-100: 85\n",
      "Guess a little lower: 45\n",
      "Guess a little lower: 30\n",
      "Guess a little lower: 15\n",
      "Guess a little higher: 20\n",
      "Guess a little higher: 24\n",
      "Guess a little higher: 29\n",
      "Guess a little lower: 25\n",
      "Guess a little higher: 27\n",
      "Guess a little higher: 28\n",
      "Congratualtions you guessed correctly and it took you 10 tries!\n"
     ]
    }
   ],
   "source": [
    "import random \n",
    "\n",
    "\n",
    "def genNum ():\n",
    "    \n",
    "    return random.randint(1,100)\n",
    "\n",
    "def guessNum ():\n",
    "    \n",
    "    user_Num = input(\"Enter an integer value between 1-100: \")\n",
    "    \n",
    "    try:\n",
    "        return int(user_Num)\n",
    "    \n",
    "    \n",
    "    except ValueError:\n",
    "        user_Num = int(input(\"Please enter an integer value: \"))\n",
    "        return user_Num\n",
    "    \n",
    "def checkNum (comp_num, user_num):\n",
    "    attempts = 1\n",
    "    if comp_num == user_num:\n",
    "        print(\"Congratulations you guessed correctly on your first try!\")\n",
    "        \n",
    "    while comp_num != user_num:\n",
    "        \n",
    "        if comp_num > user_num:\n",
    "            user_num = int(input(\"Guess a little higher: \"))\n",
    "            attempts +=1 \n",
    "        \n",
    "        else:\n",
    "            user_num = int(input(\"Guess a little lower: \"))\n",
    "            attempts +=1 \n",
    "        \n",
    "    print(\"Congratualtions you guessed correctly and it took you \"+str(attempts)+\" tries!\")\n",
    "        \n",
    "    \n",
    "    \n",
    "    \n",
    "\n",
    "\n",
    "comp_num = genNum()\n",
    "user_num = guessNum()\n",
    "\n",
    "checkNum(comp_num, user_num)\n"
   ]
  },
  {
   "cell_type": "code",
   "execution_count": null,
   "metadata": {},
   "outputs": [],
   "source": []
  },
  {
   "cell_type": "code",
   "execution_count": null,
   "metadata": {},
   "outputs": [],
   "source": []
  },
  {
   "cell_type": "code",
   "execution_count": null,
   "metadata": {},
   "outputs": [],
   "source": []
  },
  {
   "cell_type": "code",
   "execution_count": null,
   "metadata": {},
   "outputs": [],
   "source": []
  },
  {
   "cell_type": "code",
   "execution_count": null,
   "metadata": {
    "collapsed": true
   },
   "outputs": [],
   "source": []
  }
 ],
 "metadata": {
  "kernelspec": {
   "display_name": "Python 3",
   "language": "python",
   "name": "python3"
  },
  "language_info": {
   "codemirror_mode": {
    "name": "ipython",
    "version": 3
   },
   "file_extension": ".py",
   "mimetype": "text/x-python",
   "name": "python",
   "nbconvert_exporter": "python",
   "pygments_lexer": "ipython3",
   "version": "3.6.1"
  }
 },
 "nbformat": 4,
 "nbformat_minor": 2
}
