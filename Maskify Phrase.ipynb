{
 "cells": [
  {
   "cell_type": "markdown",
   "metadata": {},
   "source": [
    "# Maskify Phrase"
   ]
  },
  {
   "cell_type": "code",
   "execution_count": null,
   "metadata": {},
   "outputs": [],
   "source": [
    "def maskify (cc):\n",
    "    ccList = list(cc)\n",
    "    index = 0 \n",
    "    if len(ccList) >= 4:\n",
    "        for i in ccList[0:-4]:\n",
    "            ccList[index] = '#'\n",
    "            index +=1\n",
    "        ccString = ''.join(ccList)\n",
    "        return ccString\n",
    "    else:\n",
    "        \n",
    "        return cc\n",
    "    \n",
    "    \n",
    "    \n",
    "def word():\n",
    "    phrase = input(\"Enter a 4+ letter phrase you would like to maskify: \")\n",
    "    return phrase\n",
    "\n",
    "def main():\n",
    "    \n",
    "    phrase = word()\n",
    "    masked_phrase = maskify(phrase)\n",
    "    \n",
    "    print(masked_phrase)\n",
    "main()"
   ]
  },
  {
   "cell_type": "code",
   "execution_count": null,
   "metadata": {
    "collapsed": true
   },
   "outputs": [],
   "source": []
  }
 ],
 "metadata": {
  "kernelspec": {
   "display_name": "Python 3",
   "language": "python",
   "name": "python3"
  },
  "language_info": {
   "codemirror_mode": {
    "name": "ipython",
    "version": 3
   },
   "file_extension": ".py",
   "mimetype": "text/x-python",
   "name": "python",
   "nbconvert_exporter": "python",
   "pygments_lexer": "ipython3",
   "version": "3.6.1"
  }
 },
 "nbformat": 4,
 "nbformat_minor": 2
}
